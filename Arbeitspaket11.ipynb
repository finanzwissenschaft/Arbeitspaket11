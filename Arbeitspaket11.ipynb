{
 "cells": [
  {
   "cell_type": "code",
   "execution_count": 1,
   "id": "ba15ee15-4ee8-4c92-bf32-d8e8773f9bd0",
   "metadata": {},
   "outputs": [],
   "source": [
    "import ipywidgets as widgets\n",
    "from ipywidgets import interactive\n",
    "from ipywidgets import Box\n",
    "\n",
    "import matplotlib.pyplot as plt\n",
    "import numpy as np\n",
    "import math\n",
    "\n",
    "from IPython.display import HTML\n",
    "from IPython.display import IFrame\n",
    "\n",
    "import builtins"
   ]
  },
  {
   "cell_type": "code",
   "execution_count": 2,
   "id": "43955565-845f-451c-970e-8ecc2e17d5d5",
   "metadata": {},
   "outputs": [
    {
     "data": {
      "application/vnd.jupyter.widget-view+json": {
       "model_id": "a6ebd9062e8f4377886c18e4d0b35795",
       "version_major": 2,
       "version_minor": 0
      },
      "text/plain": [
       "A Jupyter Widget"
      ]
     },
     "metadata": {},
     "output_type": "display_data"
    }
   ],
   "source": [
    "file = builtins.open(\"Bilder/Logo.png\", \"rb\")\n",
    "image = file.read()\n",
    "bild_Logo = widgets.Image(\n",
    "    value=image,\n",
    "    format='png',\n",
    "    width=200,\n",
    "   #height=128,\n",
    "    )\n",
    "bild_Logo"
   ]
  },
  {
   "cell_type": "markdown",
   "id": "e05bd103-0b1e-44f5-9a4e-00e334473088",
   "metadata": {},
   "source": [
    "# <span style=\"font-family:Century Gothic;color:DarkCyan\">Arbeitspaket 11</span>\n",
    "\n",
    "## <span style=\"font-family:Century Gothic;color:DarkCyan\">Aufgabe 1</span>"
   ]
  },
  {
   "cell_type": "markdown",
   "id": "59ed45f4-b57a-4969-bc94-044e385637a7",
   "metadata": {},
   "source": [
    "Gegeben sei ein Individuum, das Nutzen aus Freizeit $f$ und Konsum $x$ zieht (Preis $p = 1$). Die\n",
    "Nutzenfunktion sei mit $u = u(f, x)$ gegeben. Das Individuum bietet einen prozentualen\n",
    "Anteil $l$ seines Zeitbudgets zum Lohnsatz $w = 1$ auf dem Arbeitsmarkt an."
   ]
  },
  {
   "cell_type": "markdown",
   "id": "578a73d9-fda3-4275-b4b4-902666eec58a",
   "metadata": {},
   "source": [
    "> **Welcher Ausdruck beschreibt das Zeitbudget des Individuums?**"
   ]
  },
  {
   "cell_type": "code",
   "execution_count": 3,
   "id": "e169e438-5879-4a2e-87c2-650d2f1b0d2a",
   "metadata": {},
   "outputs": [
    {
     "data": {
      "application/vnd.jupyter.widget-view+json": {
       "model_id": "7b04b243b730474f8da4ae9f702efc8d",
       "version_major": 2,
       "version_minor": 0
      },
      "text/plain": [
       "A Jupyter Widget"
      ]
     },
     "metadata": {},
     "output_type": "display_data"
    },
    {
     "data": {
      "application/vnd.jupyter.widget-view+json": {
       "model_id": "1d2334a69c2b4da5886d86d344d65c25",
       "version_major": 2,
       "version_minor": 0
      },
      "text/plain": [
       "A Jupyter Widget"
      ]
     },
     "metadata": {},
     "output_type": "display_data"
    }
   ],
   "source": [
    "opinion_MR = widgets.RadioButtons(\n",
    "    options=['F=100','l+f=1','l=f'],\n",
    "    value=None,\n",
    "    #description='Faktoren',\n",
    "    disabled=False\n",
    ")\n",
    "\n",
    "button_MR = widgets.Button(\n",
    "    description='Auswertung',\n",
    "    disabled=False,\n",
    "    button_style='', # 'success', 'info', 'warning', 'danger' or ''\n",
    "    tooltip='Bitte klicken.',\n",
    "    #icon='check' # (FontAwesome names without the `fa-` prefix)\n",
    ")\n",
    "\n",
    "# define function\n",
    "def check(button_MR):\n",
    "  if opinion_MR.value == 'l+f=1':\n",
    "    button_MR.button_style = 'success'\n",
    "    button_MR.description = 'Richtig'\n",
    "  else:\n",
    "    button_MR.button_style = 'danger'\n",
    "    button_MR.description = 'Leider Falsch'\n",
    "\n",
    "# set function as on_click on button\n",
    "button_MR.on_click(check)\n",
    "\n",
    "display(opinion_MR)\n",
    "display(button_MR)"
   ]
  },
  {
   "cell_type": "markdown",
   "id": "927c3c21-9e8c-48fe-9feb-c5e2fec70728",
   "metadata": {},
   "source": [
    "Der Staat beschließt die Einführung eines <a href=\"https://www.bpb.de/themen/medien-journalismus/netzdebatte/222285/debatte-bedingungsloses-grundeinkommen/\">bedingungslosen Grundeinkommens $G$</a>. Zusätzlich zu ihrem Arbeitseinkommen erhalten alle Individuen ab sofort ein exogen gegebenes Nicht-Arbeitseinkommen $G$.\n",
    "\n",
    "> **Skizzieren Sie in untenstehender Abbildung die Budgetgerade des Individuums für ein Grundeinkommen in Höhe von $G=0,25$ und $G=0,50$. Überprüfen Sie Ihr Ergebnis mit dem Slider.**"
   ]
  },
  {
   "cell_type": "code",
   "execution_count": 4,
   "id": "d953f015-974c-4eac-a1ad-63a10d5cbc49",
   "metadata": {},
   "outputs": [
    {
     "data": {
      "application/vnd.jupyter.widget-view+json": {
       "model_id": "81163aac921c427aa9756c5213c23380",
       "version_major": 2,
       "version_minor": 0
      },
      "text/plain": [
       "A Jupyter Widget"
      ]
     },
     "metadata": {},
     "output_type": "display_data"
    }
   ],
   "source": [
    "%matplotlib inline\n",
    "\n",
    "def f(G):\n",
    "    plt.figure(2)\n",
    "    x = np.linspace(0, 1)\n",
    "    plt.plot(x,(1+G)-1*x,color=\"Darkcyan\", alpha=0.5, linewidth=2.0)\n",
    "    plt.vlines(1, 0, G,color=\"Darkcyan\", alpha=0.5, linewidth=2.0)\n",
    "    plt.ylim(0, 2)\n",
    "    plt.xlim(0, 1.1)\n",
    "    plt.xlabel(\"Freizeit $f$\")\n",
    "    plt.margins(x=0)\n",
    "    plt.ylabel(\"Konsum $x$\")    \n",
    "    plt.show()\n",
    "\n",
    "    \n",
    "interactive_plot = interactive(f, G=widgets.FloatSlider(min=0,max=1,step=0.01,value=0))\n",
    "output = interactive_plot.children[-1]\n",
    "interactive_plot"
   ]
  },
  {
   "cell_type": "markdown",
   "id": "0c8dd5d9-e724-4f29-8290-b4327905535a",
   "metadata": {},
   "source": [
    "> **Stellen Sie das Optimierungsproblem des Individuums sowie die dazugehörige Lagrange-Funktion auf.**"
   ]
  },
  {
   "cell_type": "code",
   "execution_count": 5,
   "id": "3bc7f73f-cbfb-4244-90a7-34c925f15cec",
   "metadata": {},
   "outputs": [
    {
     "data": {
      "application/vnd.jupyter.widget-view+json": {
       "model_id": "2e14f161571145959d6bef6a48485fba",
       "version_major": 2,
       "version_minor": 0
      },
      "text/plain": [
       "A Jupyter Widget"
      ]
     },
     "metadata": {},
     "output_type": "display_data"
    }
   ],
   "source": [
    "accordion1 = widgets.Accordion([\n",
    "    widgets.Label(\n",
    "        value=\"$$ wl + G = px $$\",\n",
    "        placeholder='Some LaTeX',\n",
    "        description='Some LaTeX',\n",
    "        disabled=False\n",
    "    ),\n",
    "    widgets.Label(\n",
    "        value=\"$$ max \\\\, u(f,x) \\\\quad u.d.NB.\\\\quad  wl + G = px $$\",\n",
    "        placeholder='Some LaTeX',\n",
    "        description='Some LaTeX',\n",
    "        disabled=False\n",
    "    ),\n",
    "    widgets.Label(\n",
    "        value=\"$$ \\mathcal{L} = u(f,x) + \\lambda(w(1-f) + G - px) $$\",\n",
    "        placeholder='Some LaTeX',\n",
    "        description='Some LaTeX',\n",
    "        disabled=False\n",
    "    )], selected_index=None)\n",
    "accordion1.set_title(0, 'Budgetbeschränkung')\n",
    "accordion1.set_title(1, 'Optimierungsproblem')\n",
    "accordion1.set_title(2, 'Lagrange-Funktion')\n",
    "\n",
    "accordion1"
   ]
  },
  {
   "cell_type": "markdown",
   "id": "4f697276-e782-4a2b-af68-eab9f0795057",
   "metadata": {},
   "source": [
    "> **Bestimmen Sie die Optimalitätsbedingungen und interpretieren Sie diese.**"
   ]
  },
  {
   "cell_type": "code",
   "execution_count": 6,
   "id": "57a1213f-fc80-4432-9975-ffee0a2cd5bb",
   "metadata": {},
   "outputs": [
    {
     "data": {
      "application/vnd.jupyter.widget-view+json": {
       "model_id": "bdb1012e341d4e89ba6062ff454fd18c",
       "version_major": 2,
       "version_minor": 0
      },
      "text/plain": [
       "A Jupyter Widget"
      ]
     },
     "metadata": {},
     "output_type": "display_data"
    }
   ],
   "source": [
    "accordion2 = widgets.Accordion([\n",
    "    widgets.Label(\n",
    "        value=\"BEO 1: $$\\\\frac{\\partial \\mathcal{L}}{\\partial f}=\\\\frac{\\partial u}{\\partial f}-\\lambda w\\\\overset{!}{=}0$$ BEO 2: $$\\\\frac{\\partial\\mathcal{L}}{\\partial x}= \\\\frac{\\partial u}{\\partial x}-\\lambda p\\overset{!}{=}0$$ BEO 3: $$\\\\frac{\\partial \\mathcal {L}}{\\partial \\lambda}=w(1-f)+G-px\\overset{!}{=}0$$\",\n",
    "        placeholder='Some LaTeX',\n",
    "        description='Some LaTeX',\n",
    "        disabled=False\n",
    "    ),\n",
    "    widgets.Label(\n",
    "        value=\"$$ \\\\text{(1)}=\\\\text{(2)}:~ \\\\frac{\\partial u}{\\partial f}\\cdot\\\\frac{1}{w}=\\\\frac{\\partial u}{\\partial x}\\cdot\\\\frac{1}{p} $$\",\n",
    "        placeholder='Some LaTeX',\n",
    "        description='Some LaTeX',\n",
    "        disabled=False\n",
    "    ),\n",
    "    widgets.Label(\n",
    "        value=\"$$\\\\frac{\\\\frac{\\partial u}{\\partial f}}{\\\\frac{\\partial u}{\\partial x}}=\\\\frac{w}{p}$$\",\n",
    "        placeholder='Some LaTeX',\n",
    "        description='Some LaTeX',\n",
    "        disabled=False\n",
    "    ),\n",
    "    widgets.Label(\n",
    "        value=\"|GRS|  = relatives Preisverhältnis für Konsum und Freizeit bzw. (|Steigung Indifferenzkurve|)=(|Steigung Budgetrestriktion|)\",\n",
    "        placeholder='Some LaTeX',\n",
    "        description='Some LaTeX',\n",
    "        disabled=False\n",
    "    )], selected_index=None)\n",
    "    \n",
    "accordion2.set_title(0, 'Bedingungen Erster Ordnung')\n",
    "accordion2.set_title(1, 'Gleichsetzen')\n",
    "accordion2.set_title(2, 'Optimalitätsbedingung')\n",
    "accordion2.set_title(3, 'Interpretation')\n",
    "\n",
    "accordion2"
   ]
  },
  {
   "cell_type": "markdown",
   "id": "b5831030-7f29-4aee-a235-b156570818a6",
   "metadata": {},
   "source": [
    "## <span style=\"font-family:Century Gothic;color:DarkCyan\">Aufgabe 2: Anrechnung Arbeitseinkommen </span>"
   ]
  },
  {
   "cell_type": "markdown",
   "id": "f10de06c-44c4-4c5c-b734-3eeb47340b98",
   "metadata": {},
   "source": [
    "Die Regierung beschließt die Einführung des sogenannten Bürgergelds. Dieses Konzept sieht vor, dass Individuen ohne Arbeitseinkommen die Transferzahlung $G=60$ erhalten. Wird ein Individuum am Arbeitsmarkt aktiv, soll sein Arbeitseinkommen auf die Transferzahlung angerechnet werden. Die beiden aktiven Regierungsparteien sind sich uneinig, in welchem Ausmaß diese Anrechnung erfolgen soll. \n",
    "\n",
    "- **<span style=\"color:DarkCyan\">Partei A</span>**  möchte, dass das Arbeitseinkommen voll angerechnet wird.\n",
    "- **<span style=\"color:Maroon\">Partei B</span>** möchte, dass das Arbeitseinkommen nur zu 80% angerechnet wird.\n",
    "\n",
    "> **Skizzieren Sie den Verlauf der Budgetgeraden für die Vorschläge der <span style=\"color:DarkCyan\">Partei A</span> und <span style=\"color:Maroon\">Partei B</span>. Überprüfen Sie Ihr Ergebnis im Anschluss mit Hilfe der Slider <span style=\"color:DarkCyan\">A</span> und <span style=\"color:Maroon\">B</span>.** Gehen Sie davon aus, dass das maximale Zeitbudget 100 Stunden pro Woche beträgt. Für jede Arbeitsstunde erhält das Individuum einen Studenlohn von $w=1$. Eine Einheit Konsum kostet $p=1$.\n"
   ]
  },
  {
   "cell_type": "code",
   "execution_count": 7,
   "id": "4727477f-bddb-46ed-9bf8-86b46e6c1a32",
   "metadata": {},
   "outputs": [
    {
     "data": {
      "application/vnd.jupyter.widget-view+json": {
       "model_id": "8af1fd9415d54f90b2036039a3fd5937",
       "version_major": 2,
       "version_minor": 0
      },
      "text/plain": [
       "A Jupyter Widget"
      ]
     },
     "metadata": {},
     "output_type": "display_data"
    }
   ],
   "source": [
    "%matplotlib inline\n",
    "\n",
    "def f(A,B):\n",
    "    plt.figure(2)\n",
    "    x = np.linspace(1, 100, num=100)\n",
    "    # Funktionen ohne Steuern\n",
    "    plt.plot(x,100-x,color=\"#464646\", linestyle='dotted')\n",
    "    # Funktion mit voller Anrechnung    \n",
    "    x1 = [0,40,100]\n",
    "    y1 = [100,60,60]\n",
    "    plt.plot(A*x1,A*y1,color=\"Darkcyan\", linewidth=2.0)\n",
    "    plt.vlines(100, 0,A*60,color=\"Darkcyan\", linewidth=2.0)\n",
    "    # Funktion mit 80 Anrechnung\n",
    "    x2 = [0,25,100]\n",
    "    y2 = [100,75,60]\n",
    "    plt.plot(B*x2,B*y2,color=\"Maroon\", linewidth=2.0)\n",
    "    plt.vlines(100, 0,B*60,color=\"Maroon\", linewidth=2.0)\n",
    "    \n",
    "    # Settings\n",
    "    plt.ylim(0, 100)\n",
    "    plt.xlim(0, 110)\n",
    "    plt.xlabel(\"Freizeit $f$\")\n",
    "    plt.margins(x=0)\n",
    "    plt.ylabel(\"Konsum $x$\")    \n",
    "    plt.show()\n",
    "    \n",
    "    \n",
    "interactive_plot = interactive(f, A=(0, 1,1), B=(0, 1,1))\n",
    "output = interactive_plot.children[-1]\n",
    "interactive_plot"
   ]
  },
  {
   "cell_type": "markdown",
   "id": "d236d8e5-b895-4224-a4c0-418860019853",
   "metadata": {
    "tags": []
   },
   "source": [
    "## <span style=\"font-family:Century Gothic;color:DarkCyan\">Aufgabe 3"
   ]
  },
  {
   "cell_type": "markdown",
   "id": "ed2e380b-2ba1-4090-8ea6-ffe4110c7a82",
   "metadata": {},
   "source": [
    "<a href=\"https://www.sciencedirect.com/science/article/pii/S0304407607001182\">Lemieux und Milligan (2008)</a>  untersuchen die Auswirkung eines Sozialhilfeprogramms auf das Arbeitsangebot von Individuen in Quebec (Kanada)."
   ]
  },
  {
   "cell_type": "markdown",
   "id": "898e9f79-52c9-4c71-bad9-0bb9e9351d0f",
   "metadata": {},
   "source": [
    "### <span style=\"font-family:Century Gothic;color:DarkCyan\">Aufgabe 3.1</span>\n",
    "> **Auf welche Gruppe alleinstehender Männer mit einem Alter zwischen 25 und 39 Jahren konzentrieren sich die Autoren?**"
   ]
  },
  {
   "cell_type": "code",
   "execution_count": 8,
   "id": "50ad7c61-6233-42ba-a69f-a3660b599dcd",
   "metadata": {},
   "outputs": [
    {
     "data": {
      "application/vnd.jupyter.widget-view+json": {
       "model_id": "9c64e27407e946afbf1913acc874a7da",
       "version_major": 2,
       "version_minor": 0
      },
      "text/plain": [
       "A Jupyter Widget"
      ]
     },
     "metadata": {},
     "output_type": "display_data"
    },
    {
     "data": {
      "application/vnd.jupyter.widget-view+json": {
       "model_id": "4fcd038937294ee7b2ad167471e2d271",
       "version_major": 2,
       "version_minor": 0
      },
      "text/plain": [
       "A Jupyter Widget"
      ]
     },
     "metadata": {},
     "output_type": "display_data"
    }
   ],
   "source": [
    "opinion_MR = widgets.RadioButtons(\n",
    "    options=['Mit High-School Abschluss und mit Kindern','Ohne High-School Abschluss und mit Kindern','Ohne High-School Abschluss, ohne Kindern'],\n",
    "    value=None,\n",
    "    #description='Faktoren',\n",
    "    disabled=False\n",
    ")\n",
    "\n",
    "button_MR = widgets.Button(\n",
    "    description='Auswertung',\n",
    "    disabled=False,\n",
    "    button_style='', # 'success', 'info', 'warning', 'danger' or ''\n",
    "    tooltip='Bitte klicken.',\n",
    "    #icon='check' # (FontAwesome names without the `fa-` prefix)\n",
    ")\n",
    "\n",
    "# define function\n",
    "def check(button_MR):\n",
    "  if opinion_MR.value == 'Ohne High-School Abschluss, ohne Kindern':\n",
    "    button_MR.button_style = 'success'\n",
    "    button_MR.description = 'Richtig'\n",
    "  else:\n",
    "    button_MR.button_style = 'danger'\n",
    "    button_MR.description = 'Leider Falsch'\n",
    "\n",
    "# set function as on_click on button\n",
    "button_MR.on_click(check)\n",
    "\n",
    "display(opinion_MR)\n",
    "display(button_MR)"
   ]
  },
  {
   "cell_type": "markdown",
   "id": "1be83372-eafc-4aed-88be-6c68b8db9ca3",
   "metadata": {},
   "source": [
    "### <span style=\"font-family:Century Gothic;color:DarkCyan\">Aufgabe 3.2</span>\n",
    "Zeichnen Sie die Höhe der zu erwartenden Sozialhilfe (siehe Folie 324) für diese Gruppe in untenstehendes Diagramm ein."
   ]
  },
  {
   "cell_type": "code",
   "execution_count": 9,
   "id": "06237bcb-75cb-4e7c-89c9-386c54cabbcf",
   "metadata": {},
   "outputs": [
    {
     "data": {
      "image/png": "[encoded data removed]",
      "text/plain": [
       "<Figure size 640x480 with 1 Axes>"
      ]
     },
     "metadata": {},
     "output_type": "display_data"
    }
   ],
   "source": [
    "%matplotlib inline\n",
    "\n",
    "#def f(A,B):\n",
    "plt.figure(2)\n",
    "x = np.linspace(1, 100, num=100)\n",
    "# Benefits unter 30   \n",
    "#x1 = [24,30]\n",
    "#y1 = [185,185]\n",
    "#plt.plot(x1,y1,color=\"Darkcyan\", linewidth=2.0)\n",
    "#plt.vlines(30,185,507, color=\"#464646\", linestyle='dotted', linewidth=2.0)\n",
    "# Benefits über 30 \n",
    "#x2 = [30,40]\n",
    "#y2 = [507,507]\n",
    "#plt.plot(x2,y2,color=\"Darkcyan\", linewidth=2.0)\n",
    "\n",
    "    \n",
    "# Settings\n",
    "plt.ylim(0, 550)\n",
    "plt.xlim(24, 40)\n",
    "plt.xlabel(\"Alter (in Jahren)\")\n",
    "plt.margins(x=0)\n",
    "plt.ylabel(\"Sozialhilfe (in Dollar)\")    \n",
    "plt.show()\n"
   ]
  },
  {
   "cell_type": "markdown",
   "id": "a78d14d1-d5ef-4fdc-ab9c-4eb831d8b4b9",
   "metadata": {},
   "source": [
    "### <span style=\"font-family:Century Gothic;color:DarkCyan\">Aufgabe 2.3</span>\n",
    ">**Wieso vergleichen Lemieux und Milligan innerhalb dieser Gruppe nicht alle Personen unter 30 Jahren mit allen Personen über 30 Jahren?**\n",
    "\n",
    "*Diese Aufgabe wird in der Präsenzveranstaltung besprochen.*"
   ]
  },
  {
   "cell_type": "markdown",
   "id": "a3bc7ff3-83b3-48ba-b808-deeb20657636",
   "metadata": {},
   "source": [
    "### <span style=\"font-family:Century Gothic;color:DarkCyan\">Aufgabe 3.4</span>\n",
    "Betrachten Sie nun folgende Abbildung aus Lemieux und Milligan (S. 816)."
   ]
  },
  {
   "cell_type": "code",
   "execution_count": 19,
   "id": "baba7612-e811-41fd-835e-406de7514f82",
   "metadata": {},
   "outputs": [
    {
     "data": {
      "application/vnd.jupyter.widget-view+json": {
       "model_id": "ad82a0d596f043af9ebcfba89fad1e24",
       "version_major": 2,
       "version_minor": 0
      },
      "text/plain": [
       "A Jupyter Widget"
      ]
     },
     "metadata": {},
     "output_type": "display_data"
    }
   ],
   "source": [
    "file = builtins.open(\"Bilder/Lemieux2008_Abbildung_3_S816.PNG\", \"rb\")\n",
    "image = file.read()\n",
    "bild_Lemieux2008_1 = widgets.Image(\n",
    "    value=image,\n",
    "    format='png',\n",
    "    width=700,\n",
    "   #height=128,\n",
    "    )\n",
    "bild_Lemieux2008_1"
   ]
  },
  {
   "cell_type": "markdown",
   "id": "5bd23d08-8676-435f-a464-67da3d6104da",
   "metadata": {},
   "source": [
    ">**Wie groß ist der Effekt der erhöhten Sozialhilfe auf die Beschäftigtenrate?**"
   ]
  },
  {
   "cell_type": "code",
   "execution_count": 11,
   "id": "338204bb-9f92-49d2-95f5-fe2df4783826",
   "metadata": {},
   "outputs": [
    {
     "data": {
      "application/vnd.jupyter.widget-view+json": {
       "model_id": "f9eaf26a70c8461ab4a457cff40cc649",
       "version_major": 2,
       "version_minor": 0
      },
      "text/plain": [
       "A Jupyter Widget"
      ]
     },
     "metadata": {},
     "output_type": "display_data"
    },
    {
     "data": {
      "application/vnd.jupyter.widget-view+json": {
       "model_id": "048606305aba47e1adb9c3c00b3d54b2",
       "version_major": 2,
       "version_minor": 0
      },
      "text/plain": [
       "A Jupyter Widget"
      ]
     },
     "metadata": {},
     "output_type": "display_data"
    }
   ],
   "source": [
    "opinion_MR = widgets.RadioButtons(\n",
    "    options=['ca. -5 Prozent','ca. -5 Prozentpunkte','ca. +5Prozent','ca. +5 Prozentpunkte'],\n",
    "    value=None,\n",
    "    #description='Faktoren',\n",
    "    disabled=False\n",
    ")\n",
    "\n",
    "button_MR = widgets.Button(\n",
    "    description='Auswertung',\n",
    "    disabled=False,\n",
    "    button_style='', # 'success', 'info', 'warning', 'danger' or ''\n",
    "    tooltip='Bitte klicken.',\n",
    "    #icon='check' # (FontAwesome names without the `fa-` prefix)\n",
    ")\n",
    "\n",
    "# define function\n",
    "def check(button_MR):\n",
    "  if opinion_MR.value == 'ca. -5 Prozentpunkte':\n",
    "    button_MR.button_style = 'success'\n",
    "    button_MR.description = 'Richtig'\n",
    "  else:\n",
    "    button_MR.button_style = 'danger'\n",
    "    button_MR.description = 'Leider Falsch'\n",
    "\n",
    "# set function as on_click on button\n",
    "button_MR.on_click(check)\n",
    "\n",
    "display(opinion_MR)\n",
    "display(button_MR)"
   ]
  },
  {
   "cell_type": "markdown",
   "id": "e4e7c47e-faa6-4369-b3fe-da7b849067b7",
   "metadata": {},
   "source": [
    "### <span style=\"font-family:Century Gothic;color:DarkCyan\">Aufgabe 3.5</span>\n",
    ">**Lassen sich die Schlussfolgerungen aus der Studie auf alle Männer im Alter zwischen 30 und 31 Jahren übertragen? Bitte begründen Sie Ihre Antwort.**"
   ]
  },
  {
   "cell_type": "code",
   "execution_count": 12,
   "id": "57b0909e-66ad-4b6e-98d4-5a3083e14eaa",
   "metadata": {},
   "outputs": [
    {
     "data": {
      "application/vnd.jupyter.widget-view+json": {
       "model_id": "0de767913fa04598b49ab75bdcaf6b75",
       "version_major": 2,
       "version_minor": 0
      },
      "text/plain": [
       "A Jupyter Widget"
      ]
     },
     "metadata": {},
     "output_type": "display_data"
    },
    {
     "data": {
      "application/vnd.jupyter.widget-view+json": {
       "model_id": "db7ff21b41964f19ad33b83db2799814",
       "version_major": 2,
       "version_minor": 0
      },
      "text/plain": [
       "A Jupyter Widget"
      ]
     },
     "metadata": {},
     "output_type": "display_data"
    }
   ],
   "source": [
    "opinion_MR = widgets.RadioButtons(\n",
    "    options=['Ja','Nein'],\n",
    "    value=None,\n",
    "    #description='Faktoren',\n",
    "    disabled=False\n",
    ")\n",
    "\n",
    "button_MR = widgets.Button(\n",
    "    description='Auswertung',\n",
    "    disabled=False,\n",
    "    button_style='', # 'success', 'info', 'warning', 'danger' or ''\n",
    "    tooltip='Bitte klicken.',\n",
    "    #icon='check' # (FontAwesome names without the `fa-` prefix)\n",
    ")\n",
    "\n",
    "# define function\n",
    "def check(button_MR):\n",
    "  if opinion_MR.value == 'Nein':\n",
    "    button_MR.button_style = 'success'\n",
    "    button_MR.description = 'Richtig'\n",
    "  else:\n",
    "    button_MR.button_style = 'danger'\n",
    "    button_MR.description = 'Leider Falsch'\n",
    "\n",
    "# set function as on_click on button\n",
    "button_MR.on_click(check)\n",
    "\n",
    "display(opinion_MR)\n",
    "display(button_MR)"
   ]
  },
  {
   "cell_type": "markdown",
   "id": "5f7ea13a-8a49-44d4-88ed-151d9e197382",
   "metadata": {},
   "source": [
    "## <span style=\"font-family:Century Gothic;color:DarkCyan\">Aufgabe 4</span>\n",
    "### <span style=\"font-family:Century Gothic;color:DarkCyan\">Aufgabe 4.1</span>\n",
    "Beim Rent-Seeking beeinflusst eine (Wähler-)Gruppe die Politik so, dass sie auf Kosten der Gesamtgesellschaft Vorteile erhält. Schauen Sie das folgende <a href=\"https://www.youtube.com/watch?v=95pyLE_ZsDg&t=58s\">Video</a>, das dieses Prinzip näher erläutert."
   ]
  },
  {
   "cell_type": "code",
   "execution_count": 13,
   "id": "5f36a480-bb5c-4a04-b3ef-58aaae17c4c1",
   "metadata": {},
   "outputs": [
    {
     "data": {
      "text/html": [
       "\n",
       "        <iframe\n",
       "            width=\"600px\"\n",
       "            height=\"300px\"\n",
       "            src=\"https://www.youtube.com/embed/95pyLE_ZsDg\"\n",
       "            frameborder=\"0\"\n",
       "            allowfullscreen\n",
       "            \n",
       "        ></iframe>\n",
       "        "
      ],
      "text/plain": [
       "<IPython.lib.display.IFrame at 0x2adbdbede10>"
      ]
     },
     "metadata": {},
     "output_type": "display_data"
    }
   ],
   "source": [
    "display(IFrame('https://www.youtube.com/embed/95pyLE_ZsDg', '600px', '300px'))"
   ]
  },
  {
   "cell_type": "markdown",
   "id": "55dcba69-edbf-4727-8ffa-8e88a29765a5",
   "metadata": {},
   "source": [
    "### <span style=\"font-family:Century Gothic;color:DarkCyan\">Aufgabe 3.2</span>\n",
    "Beim Rent-Seeking konkurrieren Unternehmen um eine vorteilhafte Behandlung durch den Staat. Ein Beispiel dafür könnte die Gewährung einer Monopolstellung sein. In Deutschland erhielt die Deutsche Post AG beispielsweise bis zum Jahr 2007 solch eine bevorzugte Position: Das Unternehmen erhielt durch das im Postgesetz verankerte <a href=\"https://www.handelsblatt.com/unternehmen/handel-konsumgueter/ende-des-briefmonopols-wenn-der-postmann-dreimal-klingelt/2780878.html\">Briefmonopol</a> eine Exklusivlizenz für den Transport von Briefsendungen bis 50 Gramm. Das folgende Schaubild zeigt diese Monopolsituation im Preis-Mengen Diagramm."
   ]
  },
  {
   "cell_type": "code",
   "execution_count": 14,
   "id": "7d506248-34a8-4372-b153-a5f81f0a1eff",
   "metadata": {},
   "outputs": [
    {
     "data": {
      "application/vnd.jupyter.widget-view+json": {
       "model_id": "a777b9ff39ad4b5e8831cf068bbea8e9",
       "version_major": 2,
       "version_minor": 0
      },
      "text/plain": [
       "A Jupyter Widget"
      ]
     },
     "metadata": {},
     "output_type": "display_data"
    }
   ],
   "source": [
    "file = builtins.open(\"Bilder/Abbildung_Monopol.jpg\", \"rb\")\n",
    "image = file.read()\n",
    "bild_Mono = widgets.Image(\n",
    "    value=image,\n",
    "    format='png',\n",
    "    width=600,\n",
    "   #height=128,\n",
    "    )\n",
    "bild_Mono"
   ]
  },
  {
   "cell_type": "markdown",
   "id": "a319a479-e30f-4662-ae2b-f727c45e0458",
   "metadata": {},
   "source": [
    "Die BW-Post würde ebenfalls gerne die Rente dieser Monopolstellung abschöpfen. Sie konkurriert daher mit der Deutschen Post AG um die vorteilhafte Behandlung durch den Staat.\n",
    "\n",
    "> **Welche Fläche des Diagramms stellt die Rente dar, die durch Rent-Seeking abgeschöpft werden kann?**"
   ]
  },
  {
   "cell_type": "code",
   "execution_count": 15,
   "id": "6cc2a81b-575a-4033-ae15-343442d6080d",
   "metadata": {},
   "outputs": [
    {
     "data": {
      "application/vnd.jupyter.widget-view+json": {
       "model_id": "0a154163b53f41de8a2b27fce27dd07d",
       "version_major": 2,
       "version_minor": 0
      },
      "text/plain": [
       "A Jupyter Widget"
      ]
     },
     "metadata": {},
     "output_type": "display_data"
    },
    {
     "data": {
      "application/vnd.jupyter.widget-view+json": {
       "model_id": "711a8878750048a790bff2266d7f1875",
       "version_major": 2,
       "version_minor": 0
      },
      "text/plain": [
       "A Jupyter Widget"
      ]
     },
     "metadata": {},
     "output_type": "display_data"
    }
   ],
   "source": [
    "opinion_rent = widgets.RadioButtons(\n",
    "    options=['Fläche A','Fläche B','Fläche C'],\n",
    "    value=None,\n",
    "    disabled=False\n",
    ")\n",
    "\n",
    "button_rent = widgets.Button(\n",
    "    description='Auswertung',\n",
    "    disabled=False,\n",
    "    button_style='', # 'success', 'info', 'warning', 'danger' or ''\n",
    "    tooltip='Bitte klicken.',\n",
    "    #icon='check' # (FontAwesome names without the `fa-` prefix)\n",
    ")\n",
    "\n",
    "# define function\n",
    "def check(button_rent):\n",
    "  if opinion_rent.value == 'Fläche B':\n",
    "    button_rent.button_style = 'success'\n",
    "    button_rent.description = 'Richtig'\n",
    "  else:\n",
    "    button_rent.button_style = 'danger'\n",
    "    button_rent.description = 'Leider Falsch'\n",
    "\n",
    "# set function as on_click on button\n",
    "button_rent.on_click(check)\n",
    "\n",
    "display(opinion_rent)\n",
    "display(button_rent)"
   ]
  },
  {
   "cell_type": "markdown",
   "id": "69eb6727-1f7f-442f-a100-6fbbef13357c",
   "metadata": {},
   "source": [
    "### <span style=\"font-family:Century Gothic;color:DarkCyan\">Aufgabe 4.3</span>\n",
    "\n",
    "Es gibt drei Kategorien, wie Rent-Seeking soziale Kosten verursachen kann:\n",
    "    \n",
    "1. Arbeitsaufwand und Ausgaben der um die staatlichen Vorteile konkurrierenden Unternehmen.\n",
    "2. Arbeitsaufwand der Beschäftigten im öffentlichen Dienst, die auf die Bemühungen der Unternehmen reagieren.\n",
    "3. Verzerrungen im Verhalten Dritter durch Rent-Seeking Aktivitäten der Unternehmen oder der staatlichen Reaktion auf diese.\n",
    "\n",
    "> **Ordnen Sie die untenstehenden Beispiele einer der drei Kategorien zu.**"
   ]
  },
  {
   "cell_type": "markdown",
   "id": "2808947c-cc6f-49d3-9fe2-04809d4e798a",
   "metadata": {},
   "source": [
    "*Sowohl die Deutsche Post AG als auch die BW-POST stellen Lobbyisten ein, die bei der Regierung um den Zuschlag für das Postmonopol werben.*"
   ]
  },
  {
   "cell_type": "code",
   "execution_count": 16,
   "id": "0cddaf58-79c0-404b-b938-0dfefd2359b2",
   "metadata": {},
   "outputs": [
    {
     "data": {
      "application/vnd.jupyter.widget-view+json": {
       "model_id": "960713c0a4a1419e91ee76c77c43e02c",
       "version_major": 2,
       "version_minor": 0
      },
      "text/plain": [
       "A Jupyter Widget"
      ]
     },
     "metadata": {},
     "output_type": "display_data"
    }
   ],
   "source": [
    "opinion_1 = widgets.Dropdown(\n",
    "    options=[('',0), ('Eins', 1), ('Zwei', 2), ('Drei', 3)],\n",
    "    value=0,\n",
    "    description='Kategorie:',\n",
    ")\n",
    "\n",
    "button_1 = widgets.Button(\n",
    "    description='Auswertung',\n",
    "    disabled=False,\n",
    "    button_style='', # 'success', 'info', 'warning', 'danger' or ''\n",
    "    tooltip='Bitte klicken.',\n",
    "    #icon='check' # (FontAwesome names without the `fa-` prefix)\n",
    ")\n",
    "# define function\n",
    "def check(button_1):\n",
    "  if opinion_1.value == 1:\n",
    "    button_1.button_style = 'success'\n",
    "    button_1.description = 'Richtig'\n",
    "  else:\n",
    "    button_1.button_style = 'danger'\n",
    "    button_1.description = 'Leider Falsch'\n",
    "\n",
    "# set function as on_click on button\n",
    "button_1.on_click(check)\n",
    "\n",
    "\n",
    "items = [opinion_1, button_1]\n",
    "box_1 = Box(children=items)\n",
    "display(box_1) # <- this one command displays all children"
   ]
  },
  {
   "cell_type": "markdown",
   "id": "86bfdd13-03b7-4afc-b4cb-3b822211a388",
   "metadata": {},
   "source": [
    "*Der für den Zuschlag des Monopols zuständige Beamte erhält Zuwendungen der Unternehmen. Andere Beamt:innen investieren Arbeitsaufwand darin, alles über Briefzustellung zu lernen um eines Tages diese Position zu erhalten.*"
   ]
  },
  {
   "cell_type": "code",
   "execution_count": 17,
   "id": "84e5e2b8-231f-4622-b484-8db5ee9738dd",
   "metadata": {},
   "outputs": [
    {
     "data": {
      "application/vnd.jupyter.widget-view+json": {
       "model_id": "7c2afa054c254ef79d0b0044d3a05b16",
       "version_major": 2,
       "version_minor": 0
      },
      "text/plain": [
       "A Jupyter Widget"
      ]
     },
     "metadata": {},
     "output_type": "display_data"
    }
   ],
   "source": [
    "opinion_2 = widgets.Dropdown(\n",
    "    options=[('',0), ('Eins', 1), ('Zwei', 2), ('Drei', 3)],\n",
    "    value=0,\n",
    "    description='Kategorie:',\n",
    ")\n",
    "\n",
    "button_2 = widgets.Button(\n",
    "    description='Auswertung',\n",
    "    disabled=False,\n",
    "    button_style='', # 'success', 'info', 'warning', 'danger' or ''\n",
    "    tooltip='Bitte klicken.',\n",
    "    #icon='check' # (FontAwesome names without the `fa-` prefix)\n",
    ")\n",
    "# define function\n",
    "def check(button_2):\n",
    "  if opinion_2.value == 2:\n",
    "    button_2.button_style = 'success'\n",
    "    button_2.description = 'Richtig'\n",
    "  else:\n",
    "    button_2.button_style = 'danger'\n",
    "    button_2.description = 'Leider Falsch'\n",
    "\n",
    "# set function as on_click on button\n",
    "button_2.on_click(check)\n",
    "\n",
    "\n",
    "items = [opinion_2, button_2]\n",
    "box_2 = Box(children=items)\n",
    "display(box_2) # <- this one command displays all children"
   ]
  },
  {
   "cell_type": "markdown",
   "id": "761e5c2c-afb4-4c2c-a7eb-5363ed6ee9ed",
   "metadata": {},
   "source": [
    "*Paketzusteller sehen, dass der Staat durch das Briefmonopol Vorteile gewährt. Sie verwenden Ressourcen darauf, den Staat zur Einführung eines Paketmonopols zu bewegen.*"
   ]
  },
  {
   "cell_type": "code",
   "execution_count": 18,
   "id": "627518f7-7e39-4c1c-a174-39043acb94c3",
   "metadata": {},
   "outputs": [
    {
     "data": {
      "application/vnd.jupyter.widget-view+json": {
       "model_id": "68d6a7ccbb524688af87de6ad354a42f",
       "version_major": 2,
       "version_minor": 0
      },
      "text/plain": [
       "A Jupyter Widget"
      ]
     },
     "metadata": {},
     "output_type": "display_data"
    }
   ],
   "source": [
    "opinion_3 = widgets.Dropdown(\n",
    "    options=[('',0), ('Eins', 1), ('Zwei', 2), ('Drei', 3)],\n",
    "    value=0,\n",
    "    description='Kategorie:',\n",
    ")\n",
    "\n",
    "button_3 = widgets.Button(\n",
    "    description='Auswertung',\n",
    "    disabled=False,\n",
    "    button_style='', # 'success', 'info', 'warning', 'danger' or ''\n",
    "    tooltip='Bitte klicken.',\n",
    "    #icon='check' # (FontAwesome names without the `fa-` prefix)\n",
    ")\n",
    "# define function\n",
    "def check(button_3):\n",
    "  if opinion_3.value == 3:\n",
    "    button_3.button_style = 'success'\n",
    "    button_3.description = 'Richtig'\n",
    "  else:\n",
    "    button_3.button_style = 'danger'\n",
    "    button_3.description = 'Leider Falsch'\n",
    "\n",
    "# set function as on_click on button\n",
    "button_3.on_click(check)\n",
    "\n",
    "\n",
    "items = [opinion_3, button_3]\n",
    "box_3 = Box(children=items)\n",
    "display(box_3) # <- this one command displays all children"
   ]
  },
  {
   "cell_type": "markdown",
   "id": "e3e1985e-83ac-4a99-94d5-db92c6328b4b",
   "metadata": {},
   "source": [
    "## <span style=\"font-family:Century Gothic;color:DarkCyan\">Literatur</span>\n",
    "\n",
    "Lemieux und Milligan (2008), Incentive effects of social assistance: A regression discontinuity approach, Journal of Econometrics 142, S.807–828"
   ]
  },
  {
   "cell_type": "code",
   "execution_count": null,
   "id": "a2a9b880-7a23-4468-9ea2-2d1789be4471",
   "metadata": {},
   "outputs": [],
   "source": []
  }
 ],
 "metadata": {
  "kernelspec": {
   "display_name": "Python 3 (ipykernel)",
   "language": "python",
   "name": "python3"
  },
  "language_info": {
   "codemirror_mode": {
    "name": "ipython",
    "version": 3
   },
   "file_extension": ".py",
   "mimetype": "text/x-python",
   "name": "python",
   "nbconvert_exporter": "python",
   "pygments_lexer": "ipython3",
   "version": "3.7.3"
  }
 },
 "nbformat": 4,
 "nbformat_minor": 5
}
