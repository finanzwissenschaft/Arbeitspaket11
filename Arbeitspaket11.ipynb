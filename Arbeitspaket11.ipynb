{
 "cells": [
  {
   "cell_type": "code",
   "execution_count": 1,
   "id": "8b0d652e-5d2b-414c-8177-0804ca401d8a",
   "metadata": {},
   "outputs": [],
   "source": [
    "import ipywidgets as widgets\n",
    "from ipywidgets import interactive\n",
    "from ipywidgets import Box\n",
    "\n",
    "import matplotlib.pyplot as plt\n",
    "import numpy as np\n",
    "import math\n",
    "\n",
    "from IPython.display import HTML\n",
    "from IPython.display import IFrame\n",
    "\n",
    "import builtins"
   ]
  },
  {
   "cell_type": "code",
   "execution_count": 2,
   "id": "9fbc87ef-b740-44ba-b1c1-a04f41ddbf38",
   "metadata": {},
   "outputs": [
    {
     "data": {
      "application/vnd.jupyter.widget-view+json": {
       "model_id": "f4aeacd9d0dd40e3be2f37c76ccd15be",
       "version_major": 2,
       "version_minor": 0
      },
      "text/plain": [
       "A Jupyter Widget"
      ]
     },
     "metadata": {},
     "output_type": "display_data"
    }
   ],
   "source": [
    "file = builtins.open(\"Bilder/Logo.png\", \"rb\")\n",
    "image = file.read()\n",
    "bild_Logo = widgets.Image(\n",
    "    value=image,\n",
    "    format='png',\n",
    "    width=200,\n",
    "   #height=128,\n",
    "    )\n",
    "bild_Logo"
   ]
  },
  {
   "cell_type": "markdown",
   "id": "30edf4b0-aae0-411e-bcad-9446bf8be070",
   "metadata": {},
   "source": [
    "# <span style=\"font-family:Century Gothic;color:DarkCyan\">Arbeitspaket 11</span>"
   ]
  },
  {
   "cell_type": "markdown",
   "id": "5bc93276-6843-4a0b-9405-b95b1a3b073f",
   "metadata": {},
   "source": [
    "# <span style=\"font-family:Century Gothic;color:DarkCyan\">Aufgabe 1</span>\n",
    "\n",
    "### <span style=\"font-family:Century Gothic;color:DarkCyan\">Aufgabe 1.1: Umfrageexperiment</span>\n",
    "\n",
    "<a href=\"https://direct.mit.edu/rest/article/99/2/201/58387/Richer-and-Holier-Than-Thou-The-Effect-of-Relative\">Karadja, Mollerstrom und Seim (2017)</a> untersuchen den Einfluss der Einkommensposition auf die Umverteilungspräferenzen empirisch. Hierfür informieren sie die Individuen über ihre tatsächliche Position in der Einkommensverteilung. Nehmen Sie im Folgenden an, Sie seien ein alleinstehendes Individuum mit einem Nettoeinkommen von 19.464€ im Jahr. \n",
    "\n",
    "Bitte beantworten Sie die folgende Frage aus der Umfrage von Karadja, Mollerstrom und Seim (2017).\n",
    "***\n",
    "*Stellen Sie sich vor, das Einkommen aller Menschen in Deutschland würde auf einer Skala von 1 bis 10 aufgeteilt wobei 1 das geringste und 10 das höchste Einkommen darstellt.*\n",
    "\n",
    "> ***Welche relative Einkommensposition erwarten Sie mit einem Einkommen von 19.464€ im Jahr?***"
   ]
  },
  {
   "cell_type": "code",
   "execution_count": 3,
   "id": "4e8cddfe-1648-4846-ae05-6dc0b93e4073",
   "metadata": {},
   "outputs": [
    {
     "data": {
      "application/vnd.jupyter.widget-view+json": {
       "model_id": "3e1fdc70d0894cd5b8cbd9d6ff0343da",
       "version_major": 2,
       "version_minor": 0
      },
      "text/plain": [
       "A Jupyter Widget"
      ]
     },
     "metadata": {},
     "output_type": "display_data"
    }
   ],
   "source": [
    "scale_KMS = widgets.IntSlider(\n",
    "    value=5,\n",
    "    min=1,\n",
    "    max=10,\n",
    "    step=1,\n",
    "    description='Skala',\n",
    "    disabled=False,\n",
    "    continuous_update=False,\n",
    "    orientation='horizontal',\n",
    "    readout=True,\n",
    "    readout_format='d'\n",
    ")\n",
    "\n",
    "display(scale_KMS)"
   ]
  },
  {
   "cell_type": "markdown",
   "id": "7b4961f7-e00b-4c0d-a471-6db06e00c70b",
   "metadata": {},
   "source": [
    "***\n",
    "Nach Beantwortung dieser Frage wird die Hälfte der Teilnehmer des Umfrageexperiments über ihre tatsächliche Position in der Einkommensverteilung informiert.\n",
    "\n",
    "> **Machen Sie sich mit dem Umfragedesign vertraut und schauen Sie sich im Anschluss die Reiter für Behandlungs- und Kontrollgruppe an.**\n"
   ]
  },
  {
   "cell_type": "code",
   "execution_count": 4,
   "id": "fc823e84-966c-4bdd-834c-4b9f156ed540",
   "metadata": {},
   "outputs": [
    {
     "data": {
      "application/vnd.jupyter.widget-view+json": {
       "model_id": "a20f8e5b6be74ec589c7255ac4e27738",
       "version_major": 2,
       "version_minor": 0
      },
      "text/plain": [
       "A Jupyter Widget"
      ]
     },
     "metadata": {},
     "output_type": "display_data"
    }
   ],
   "source": [
    "## Bilder einfügen\n",
    "file = builtins.open(\"Bilder/Design.png\", \"rb\")\n",
    "image = file.read()\n",
    "bild_Design = widgets.Image(\n",
    "    value=image,\n",
    "    format='png',\n",
    "    #width=128,\n",
    "    #height=128,\n",
    "    )\n",
    "bild_Design\n",
    "\n",
    "## Bilder einfügen\n",
    "file = builtins.open(\"Bilder/Info_2.png\", \"rb\")\n",
    "image = file.read()\n",
    "bild_T = widgets.Image(\n",
    "    value=image,\n",
    "    format='png',\n",
    "    #width=128,\n",
    "    #height=128,\n",
    "    )\n",
    "bild_T\n",
    "\n",
    "gruppe_K = widgets.Label(\n",
    "        value=\"Keine weiteren Informationen.\",\n",
    "        placeholder='Some LaTeX',\n",
    "        description='Some LaTeX',\n",
    "        disabled=False\n",
    "    )\n",
    "gruppe_K\n",
    "\n",
    "\n",
    "tab_nest = widgets.Tab()\n",
    "tab_nest.children = [bild_Design,bild_T,gruppe_K]\n",
    "tab_nest.set_title(0, 'Umfragedesign')\n",
    "tab_nest.set_title(1, 'Behandlungsgruppe')\n",
    "tab_nest.set_title(2, 'Kontrollgruppe')\n",
    "tab_nest\n"
   ]
  },
  {
   "cell_type": "markdown",
   "id": "993cdfdb-5157-4cd5-97de-bda4d13b629b",
   "metadata": {},
   "source": [
    "### <span style=\"font-family:Century Gothic;color:DarkCyan\">Aufgabe 1.2: Wahrgenommene vs. tatsächliche Position in der Einkommensverteilung</span>\n",
    "\n",
    "Anhand der untenstehenden Grafik können Sie sehen, inwieweit Ihre wahrgenommene relative Einkommensposition $W$ von der tatsächlichen Position $Y$ in der Einkommensverteilung abweicht.\n",
    "\n",
    "> **Nutzen Sie zunächst den Slider, um Ihren geschätzten Wert aus Aufgabe 1.1 einzustellen. Nutzen Sie dann den Slider, um den Wert für ein Individuum einzustellen, das seine tatsächliche Position überschätzt hat. Nutzen Sie im Anschluss den Slider, um den Wert für ein Individuum einzustellen, das seine Position korrekt eingeschätzt hat.**"
   ]
  },
  {
   "cell_type": "code",
   "execution_count": 5,
   "id": "aeb253b4-bd41-4d9f-ba09-25458ce8064a",
   "metadata": {},
   "outputs": [
    {
     "data": {
      "application/vnd.jupyter.widget-view+json": {
       "model_id": "cdf38094e3134b7ab996856b5fd163e9",
       "version_major": 2,
       "version_minor": 0
      },
      "text/plain": [
       "A Jupyter Widget"
      ]
     },
     "metadata": {},
     "output_type": "display_data"
    }
   ],
   "source": [
    "%matplotlib inline\n",
    "\n",
    "def f(W):\n",
    "    plt.figure(2)\n",
    "    y = [3]\n",
    "    z= [0,10]\n",
    "    v= [0,10]\n",
    "    plt.plot(z,v,color=\"Darkcyan\", alpha=0.5)\n",
    "    plt.scatter(y,W,color=\"Darkcyan\")\n",
    "    plt.ylim(0, 10)\n",
    "    plt.xlim(0, 10)\n",
    "    plt.xlabel(\"Tatsächliche Einkommensposition $Y$\")\n",
    "    plt.margins(x=0)\n",
    "    plt.ylabel(\"Wahrgenommene Einkommensposition $W$\")    \n",
    "    plt.show()\n",
    "\n",
    "    \n",
    "interactive_plot = interactive(f, W=(0, 10, 1))\n",
    "output = interactive_plot.children[-1]\n",
    "interactive_plot"
   ]
  },
  {
   "cell_type": "markdown",
   "id": "4cbc9841-979d-4c15-b803-af37b9846e2a",
   "metadata": {},
   "source": [
    "# <span style=\"font-family:Century Gothic;color:DarkCyan\">Aufgabe 2</span>"
   ]
  },
  {
   "cell_type": "markdown",
   "id": "29fa87b8-a1e7-4ca6-b0bd-5fe01f16659b",
   "metadata": {},
   "source": [
    "Die Studie von Verho, Hämäläinen und Kanninen (2022) untersucht, wie sich das bedingungslose Grundeinkommen auf das Arbeitsmarktangebot von Arbeitslosen auswirkt. "
   ]
  },
  {
   "cell_type": "markdown",
   "id": "f9d64197-a17c-41c9-a4c7-909542e143f0",
   "metadata": {},
   "source": [
    "Zufällig ausgewählte Arbeitslose in Finnland wurden in eine Behandlungs- und in eine Kontrollgruppe aufgeteilt. Individuen in der Behandlungsgruppe wurde ab Januar 2017 zwei Jahre lang ein steuerfreier Betrag in Höhe von 560€/Monat ausgezahlt. **Abbildung 1** stellt die Ergebnisse der Studie dar."
   ]
  },
  {
   "cell_type": "code",
   "execution_count": 6,
   "id": "47e13508-49a6-4f77-93cf-5dff57b8822c",
   "metadata": {},
   "outputs": [
    {
     "data": {
      "application/vnd.jupyter.widget-view+json": {
       "model_id": "3242412374794869ab7d518990617884",
       "version_major": 2,
       "version_minor": 0
      },
      "text/plain": [
       "A Jupyter Widget"
      ]
     },
     "metadata": {},
     "output_type": "display_data"
    }
   ],
   "source": [
    "## Bilder einfügen\n",
    "file = builtins.open(\"Bilder/Abbildung1_BGE.PNG\", \"rb\")\n",
    "image = file.read()\n",
    "bild = widgets.Image(\n",
    "    value=image,\n",
    "    format='png',\n",
    "    #width=1000,\n",
    "    #height=600,\n",
    "    )\n",
    "bild"
   ]
  },
  {
   "cell_type": "markdown",
   "id": "3c1de548-ef6d-48a4-bcb4-688291800e27",
   "metadata": {},
   "source": [
    "**Abbildung 1**: Anteil an Individuen, die im betrachteten Zeitraum gearbeitet haben. Quelle: Verho et al. (2022)."
   ]
  },
  {
   "cell_type": "markdown",
   "id": "4ca13795-8cc9-42ac-9999-d70b120010ad",
   "metadata": {},
   "source": [
    "> **Welche Gruppe erhöht ihr Arbeitsangebot über den betrachteten Zeitraum?**"
   ]
  },
  {
   "cell_type": "code",
   "execution_count": 7,
   "id": "b3e86490-b4e0-408f-99d2-57cae75f6ea6",
   "metadata": {},
   "outputs": [],
   "source": [
    "opinion_empiric = widgets.RadioButtons(\n",
    "    options=['Die Behandlungsgruppe','Die Kontrollgruppe', 'Beide Gruppen', 'Keine Aussage möglich'],\n",
    "    value=None,\n",
    "    description='',\n",
    "    disabled=False,\n",
    ")\n",
    "\n",
    "button_empiric = widgets.Button(\n",
    "    description='Auswertung',\n",
    "    disabled=False,\n",
    "    button_style='', # 'success', 'info', 'warning', 'danger' or ''\n",
    "    tooltip='Bitte klicken.',\n",
    "    #icon='check' # (FontAwesome names without the `fa-` prefix)\n",
    ")\n",
    "\n",
    "\n",
    "# define function\n",
    "def check(button_instance):\n",
    "  if opinion_empiric.value == 'Beide Gruppen':\n",
    "    button_empiric.button_style = 'success'\n",
    "    button_empiric.description = 'Richtig!'\n",
    "  else:\n",
    "    button_empiric.button_style = 'danger'\n",
    "    button_empiric.description = 'Leider falsch.'\n",
    "\n",
    "# set function as on_click on button\n",
    "button_empiric.on_click(check)\n"
   ]
  },
  {
   "cell_type": "code",
   "execution_count": 8,
   "id": "607dcd6d-0728-4d38-a21b-8cb5f449684a",
   "metadata": {},
   "outputs": [
    {
     "data": {
      "application/vnd.jupyter.widget-view+json": {
       "model_id": "7ae75289cd6d45bcada49134a211414d",
       "version_major": 2,
       "version_minor": 0
      },
      "text/plain": [
       "A Jupyter Widget"
      ]
     },
     "metadata": {},
     "output_type": "display_data"
    },
    {
     "data": {
      "application/vnd.jupyter.widget-view+json": {
       "model_id": "263ed288639444929b1db8a747b88ed4",
       "version_major": 2,
       "version_minor": 0
      },
      "text/plain": [
       "A Jupyter Widget"
      ]
     },
     "metadata": {},
     "output_type": "display_data"
    }
   ],
   "source": [
    "#items = [opinion_final, button_final]\n",
    "#box_final = Box(children=items)\n",
    "#display(box_final) # <- this one command displays all children\n",
    "\n",
    "display(opinion_empiric)\n",
    "display(button_empiric)"
   ]
  },
  {
   "cell_type": "markdown",
   "id": "20cd90d5-cae1-4631-b61a-e31fdf87a718",
   "metadata": {},
   "source": [
    "> **Was können mögliche Gründe für den beobachteten Anstieg im Arbeitsangebot sein?**"
   ]
  },
  {
   "cell_type": "markdown",
   "id": "54b05841-8812-442c-83c8-43018705f028",
   "metadata": {},
   "source": [
    "Diese Frage wird im Rahmen der Präsenzveranstaltung beantwortet."
   ]
  },
  {
   "cell_type": "markdown",
   "id": "ee6475a2-3bbd-4801-843e-e45992a33b4e",
   "metadata": {},
   "source": [
    "> **In welchem Zeitraum ist die Wirkung des Grundeinkommens auf das Arbeitsangebot stärker?**"
   ]
  },
  {
   "cell_type": "code",
   "execution_count": 9,
   "id": "e031d53a-bbab-4e3b-8fad-be0ed529062e",
   "metadata": {},
   "outputs": [],
   "source": [
    "opinion_empiric2 = widgets.RadioButtons(\n",
    "    options=['Im ersten Jahr nach der Intervention','Im zweiten Jahr nach der Intervention', 'Keine Aussage möglich'],\n",
    "    value=None,\n",
    "    description='',\n",
    "    disabled=False,\n",
    ")\n",
    "\n",
    "button_empiric2 = widgets.Button(\n",
    "    description='Auswertung',\n",
    "    disabled=False,\n",
    "    button_style='', # 'success', 'info', 'warning', 'danger' or ''\n",
    "    tooltip='Bitte klicken.',\n",
    "    #icon='check' # (FontAwesome names without the `fa-` prefix)\n",
    ")\n",
    "\n",
    "\n",
    "# define function\n",
    "def check(button_instance):\n",
    "  if opinion_empiric2.value == 'Im zweiten Jahr nach der Intervention':\n",
    "    button_empiric2.button_style = 'success'\n",
    "    button_empiric2.description = 'Richtig!'\n",
    "  else:\n",
    "    button_empiric2.button_style = 'danger'\n",
    "    button_empiric2.description = 'Leider falsch.'\n",
    "\n",
    "# set function as on_click on button\n",
    "button_empiric2.on_click(check)"
   ]
  },
  {
   "cell_type": "code",
   "execution_count": 10,
   "id": "de42ba73-47a5-4795-8deb-2c9888c840f5",
   "metadata": {},
   "outputs": [
    {
     "data": {
      "application/vnd.jupyter.widget-view+json": {
       "model_id": "543db76b67aa4bac89b44a1f3eecdbae",
       "version_major": 2,
       "version_minor": 0
      },
      "text/plain": [
       "A Jupyter Widget"
      ]
     },
     "metadata": {},
     "output_type": "display_data"
    },
    {
     "data": {
      "application/vnd.jupyter.widget-view+json": {
       "model_id": "34a40bf8aaeb4f72b239353a0130e4bd",
       "version_major": 2,
       "version_minor": 0
      },
      "text/plain": [
       "A Jupyter Widget"
      ]
     },
     "metadata": {},
     "output_type": "display_data"
    }
   ],
   "source": [
    "#items = [opinion_final, button_final]\n",
    "#box_final = Box(children=items)\n",
    "#display(box_final) # <- this one command displays all children\n",
    "\n",
    "display(opinion_empiric2)\n",
    "display(button_empiric2)"
   ]
  },
  {
   "cell_type": "markdown",
   "id": "f01f32a5-f0e3-4d77-bc96-cea8fbc3ed38",
   "metadata": {},
   "source": [
    "> **Kann man anhand von Abbildung 1 die Schlussfolgerung ziehen, dass ein bedingungsloses Grundeinkommen für alle Finnen positive Auswirkungen auf das Arbeitsangebot hätte?**"
   ]
  },
  {
   "cell_type": "code",
   "execution_count": 11,
   "id": "d8e724f2-6872-4450-9313-a290a7583fc9",
   "metadata": {},
   "outputs": [],
   "source": [
    "opinion_empiric3 = widgets.RadioButtons(\n",
    "    options=['Ja','Nein'],\n",
    "    value=None,\n",
    "    description='',\n",
    "    disabled=False,\n",
    ")\n",
    "\n",
    "button_empiric3 = widgets.Button(\n",
    "    description='Auswertung',\n",
    "    disabled=False,\n",
    "    button_style='', # 'success', 'info', 'warning', 'danger' or ''\n",
    "    tooltip='Bitte klicken.',\n",
    "    #icon='check' # (FontAwesome names without the `fa-` prefix)\n",
    ")\n",
    "\n",
    "\n",
    "# define function\n",
    "def check(button_instance):\n",
    "  if opinion_empiric3.value == 'Nein':\n",
    "    button_empiric3.button_style = 'success'\n",
    "    button_empiric3.description = 'Richtig!'\n",
    "  else:\n",
    "    button_empiric3.button_style = 'danger'\n",
    "    button_empiric3.description = 'Leider falsch.'\n",
    "\n",
    "# set function as on_click on button\n",
    "button_empiric3.on_click(check)"
   ]
  },
  {
   "cell_type": "code",
   "execution_count": 12,
   "id": "bc76f7e6-e735-41bd-b7dd-909722ba693f",
   "metadata": {},
   "outputs": [
    {
     "data": {
      "application/vnd.jupyter.widget-view+json": {
       "model_id": "9c8a0c25eff841839ad3af0289d335e4",
       "version_major": 2,
       "version_minor": 0
      },
      "text/plain": [
       "A Jupyter Widget"
      ]
     },
     "metadata": {},
     "output_type": "display_data"
    },
    {
     "data": {
      "application/vnd.jupyter.widget-view+json": {
       "model_id": "4b108494f1f94a5a8b1c170693d21946",
       "version_major": 2,
       "version_minor": 0
      },
      "text/plain": [
       "A Jupyter Widget"
      ]
     },
     "metadata": {},
     "output_type": "display_data"
    }
   ],
   "source": [
    "#items = [opinion_final, button_final]\n",
    "#box_final = Box(children=items)\n",
    "#display(box_final) # <- this one command displays all children\n",
    "\n",
    "display(opinion_empiric3)\n",
    "display(button_empiric3)"
   ]
  },
  {
   "cell_type": "markdown",
   "id": "261bb34d-b55a-4c1f-a1b0-1f4cbae276cc",
   "metadata": {},
   "source": [
    "> **Betrachten Sie den Zeitraum vor Beginn des Experimentes. Sind Unterschiede zwischen Behandlungs- und Kontrollgruppe in diesem Zeitraum beobachtbar?**"
   ]
  },
  {
   "cell_type": "code",
   "execution_count": 13,
   "id": "7ddcd450-e632-46af-b4b0-0aa8b0e90c40",
   "metadata": {},
   "outputs": [],
   "source": [
    "opinion_empiric4 = widgets.RadioButtons(\n",
    "    options=['Ja','Nein', 'Keine Aussage möglich'],\n",
    "    value=None,\n",
    "    description='',\n",
    "    disabled=False,\n",
    ")\n",
    "\n",
    "button_empiric4 = widgets.Button(\n",
    "    description='Auswertung',\n",
    "    disabled=False,\n",
    "    button_style='', # 'success', 'info', 'warning', 'danger' or ''\n",
    "    tooltip='Bitte klicken.',\n",
    "    #icon='check' # (FontAwesome names without the `fa-` prefix)\n",
    ")\n",
    "\n",
    "\n",
    "# define function\n",
    "def check(button_instance):\n",
    "  if opinion_empiric4.value == 'Nein':\n",
    "    button_empiric4.button_style = 'success'\n",
    "    button_empiric4.description = 'Richtig!'\n",
    "  else:\n",
    "    button_empiric4.button_style = 'danger'\n",
    "    button_empiric4.description = 'Leider falsch.'\n",
    "\n",
    "# set function as on_click on button\n",
    "button_empiric4.on_click(check)"
   ]
  },
  {
   "cell_type": "code",
   "execution_count": 14,
   "id": "b107d8a7-55a3-48cb-b63f-db14d943c4a6",
   "metadata": {},
   "outputs": [
    {
     "data": {
      "application/vnd.jupyter.widget-view+json": {
       "model_id": "18657e7714c646d5b5134def1311b147",
       "version_major": 2,
       "version_minor": 0
      },
      "text/plain": [
       "A Jupyter Widget"
      ]
     },
     "metadata": {},
     "output_type": "display_data"
    },
    {
     "data": {
      "application/vnd.jupyter.widget-view+json": {
       "model_id": "5109995d3fd142c98b1052ce5d97b585",
       "version_major": 2,
       "version_minor": 0
      },
      "text/plain": [
       "A Jupyter Widget"
      ]
     },
     "metadata": {},
     "output_type": "display_data"
    }
   ],
   "source": [
    "#items = [opinion_final, button_final]\n",
    "#box_final = Box(children=items)\n",
    "#display(box_final) # <- this one command displays all children\n",
    "\n",
    "display(opinion_empiric4)\n",
    "display(button_empiric4)"
   ]
  },
  {
   "cell_type": "markdown",
   "id": "1114fd15-622a-416f-b5b9-5d9c4c7811ce",
   "metadata": {},
   "source": [
    "> **Wie ist dies hinsichtlich der Validität der Studie zu bewerten?**"
   ]
  },
  {
   "cell_type": "markdown",
   "id": "8ccbae18-9207-4f93-8590-ce07457d0354",
   "metadata": {},
   "source": [
    "Diese Frage wird im Rahmen der Präsenzveranstaltung beantwortet."
   ]
  },
  {
   "cell_type": "markdown",
   "id": "2011e9dc-17c4-4faf-8baa-4281a0f842d5",
   "metadata": {},
   "source": [
    "**Abbildung 2** stellt die Differenz zwischen dem Arbeitsangebot der Behandlungs- und der Kontrollgruppe im Zeitverlauf dar."
   ]
  },
  {
   "cell_type": "code",
   "execution_count": 15,
   "id": "c07e2466-9db4-42e4-8f5b-50962b6be7e8",
   "metadata": {},
   "outputs": [
    {
     "data": {
      "application/vnd.jupyter.widget-view+json": {
       "model_id": "3f9bebe454144bb99cdff3266c6ba55b",
       "version_major": 2,
       "version_minor": 0
      },
      "text/plain": [
       "A Jupyter Widget"
      ]
     },
     "metadata": {},
     "output_type": "display_data"
    }
   ],
   "source": [
    "## Bilder einfügen\n",
    "file = builtins.open(\"Bilder/Abbildung2_BGE.PNG\", \"rb\")\n",
    "image = file.read()\n",
    "bild = widgets.Image(\n",
    "    value=image,\n",
    "    format='png',\n",
    "    #width=1000,\n",
    "    #height=600,\n",
    "    )\n",
    "bild"
   ]
  },
  {
   "cell_type": "markdown",
   "id": "c4466c35-ab4b-470b-b8bd-306b31c2cbc1",
   "metadata": {},
   "source": [
    "**Abbildung 2**: Differenz zwischen dem Arbeitsangebot der Behandlungsgruppe (T) und der Kontrollgruppe (C) über den betrachteten Zeitraum. Quelle: Verho, Hämäläinen and Kanninen (2022)."
   ]
  },
  {
   "cell_type": "markdown",
   "id": "cb9600ee-d58a-4f5f-8137-56e52bae59ba",
   "metadata": {},
   "source": [
    ">**Die Autoren interpretieren diese Grafik als Nachweis für fehlende statistische Signifikanz des Behandlungseffektes. Was ist der Grund dafür?**"
   ]
  },
  {
   "cell_type": "code",
   "execution_count": 16,
   "id": "e1d2839b-f8c9-4dd0-8dee-0b8acf027529",
   "metadata": {},
   "outputs": [],
   "source": [
    "opinion_empiric5 = widgets.RadioButtons(\n",
    "    options=['Die Differenz (T - C) ist teilweise negativ','Viele Konfidenzintervalle beinhalten den Wert 0', 'Kein eindeutig positiver Trend ist erkennbar'],\n",
    "    value=None,\n",
    "    description='',\n",
    "    disabled=False,\n",
    ")\n",
    "\n",
    "button_empiric5 = widgets.Button(\n",
    "    description='Auswertung',\n",
    "    disabled=False,\n",
    "    button_style='', # 'success', 'info', 'warning', 'danger' or ''\n",
    "    tooltip='Bitte klicken.',\n",
    "    #icon='check' # (FontAwesome names without the `fa-` prefix)\n",
    ")\n",
    "\n",
    "\n",
    "# define function\n",
    "def check(button_instance):\n",
    "  if opinion_empiric5.value == 'Viele Konfidenzintervalle beinhalten den Wert 0':\n",
    "    button_empiric5.button_style = 'success'\n",
    "    button_empiric5.description = 'Richtig!'\n",
    "  else:\n",
    "    button_empiric5.button_style = 'danger'\n",
    "    button_empiric5.description = 'Leider falsch.'\n",
    "\n",
    "# set function as on_click on button\n",
    "button_empiric5.on_click(check)"
   ]
  },
  {
   "cell_type": "code",
   "execution_count": 17,
   "id": "4e1cb06b-963e-4644-92bc-4199b147d55f",
   "metadata": {},
   "outputs": [
    {
     "data": {
      "application/vnd.jupyter.widget-view+json": {
       "model_id": "128844b0e6f6487786680a143ef777d7",
       "version_major": 2,
       "version_minor": 0
      },
      "text/plain": [
       "A Jupyter Widget"
      ]
     },
     "metadata": {},
     "output_type": "display_data"
    },
    {
     "data": {
      "application/vnd.jupyter.widget-view+json": {
       "model_id": "1c14a3dd634f4ec1a43ee366f8c49c4c",
       "version_major": 2,
       "version_minor": 0
      },
      "text/plain": [
       "A Jupyter Widget"
      ]
     },
     "metadata": {},
     "output_type": "display_data"
    }
   ],
   "source": [
    "#items = [opinion_final, button_final]\n",
    "#box_final = Box(children=items)\n",
    "#display(box_final)# <- this one command displays all children\n",
    "\n",
    "display(opinion_empiric5)\n",
    "display(button_empiric5)"
   ]
  },
  {
   "cell_type": "markdown",
   "id": "ff76b62a-0f13-4e5a-9cf4-f49aeb8e9472",
   "metadata": {},
   "source": [
    "## <span style=\"font-family:Century Gothic;color:DarkCyan\">Aufgabe 3</span>"
   ]
  },
  {
   "cell_type": "markdown",
   "id": "36f580e6-38d4-4cb2-9b44-6c5159ea87b8",
   "metadata": {},
   "source": [
    "Gegeben sei ein Individuum, das Nutzen aus Freizeit $f$ und Konsum $x$ zieht (Preis $p = 1$). Die\n",
    "Nutzenfunktion sei mit $u = u(f, x)$ gegeben. Das Individuum bietet einen prozentualen\n",
    "Anteil $l$ seines Zeitbudgets zum Lohnsatz $w = 1$ auf dem Arbeitsmarkt an."
   ]
  },
  {
   "cell_type": "markdown",
   "id": "8ee53ee7-39b8-47d2-9d6f-fa51b60cec9b",
   "metadata": {},
   "source": [
    "> **Welcher Ausdruck beschreibt das Zeitbudget des Individuums?**"
   ]
  },
  {
   "cell_type": "code",
   "execution_count": 18,
   "id": "1ac41575-0582-46fb-86a8-3790d9cb351e",
   "metadata": {},
   "outputs": [
    {
     "data": {
      "application/vnd.jupyter.widget-view+json": {
       "model_id": "717e2b89290f4aed9294afb4391269f3",
       "version_major": 2,
       "version_minor": 0
      },
      "text/plain": [
       "A Jupyter Widget"
      ]
     },
     "metadata": {},
     "output_type": "display_data"
    },
    {
     "data": {
      "application/vnd.jupyter.widget-view+json": {
       "model_id": "15e2f003ad5b43209d5603760ae645a5",
       "version_major": 2,
       "version_minor": 0
      },
      "text/plain": [
       "A Jupyter Widget"
      ]
     },
     "metadata": {},
     "output_type": "display_data"
    }
   ],
   "source": [
    "opinion_MR = widgets.RadioButtons(\n",
    "    options=['F=100','l+f=1','l=f'],\n",
    "    value=None,\n",
    "    #description='Faktoren',\n",
    "    disabled=False\n",
    ")\n",
    "\n",
    "button_MR = widgets.Button(\n",
    "    description='Auswertung',\n",
    "    disabled=False,\n",
    "    button_style='', # 'success', 'info', 'warning', 'danger' or ''\n",
    "    tooltip='Bitte klicken.',\n",
    "    #icon='check' # (FontAwesome names without the `fa-` prefix)\n",
    ")\n",
    "\n",
    "# define function\n",
    "def check(button_MR):\n",
    "  if opinion_MR.value == 'l+f=1':\n",
    "    button_MR.button_style = 'success'\n",
    "    button_MR.description = 'Richtig'\n",
    "  else:\n",
    "    button_MR.button_style = 'danger'\n",
    "    button_MR.description = 'Leider Falsch'\n",
    "\n",
    "# set function as on_click on button\n",
    "button_MR.on_click(check)\n",
    "\n",
    "display(opinion_MR)\n",
    "display(button_MR)"
   ]
  },
  {
   "cell_type": "markdown",
   "id": "20406ebf-ca0b-4064-9b9a-6c560f7f5067",
   "metadata": {},
   "source": [
    "Der Staat beschließt die Einführung eines <a href=\"https://www.bpb.de/themen/medien-journalismus/netzdebatte/222285/debatte-bedingungsloses-grundeinkommen/\">bedingungslosen Grundeinkommens $G$</a>. Zusätzlich zu ihrem Arbeitseinkommen erhalten alle Individuen ab sofort ein exogen gegebenes Nicht-Arbeitseinkommen $G$.\n",
    "\n",
    "> **Skizzieren Sie in untenstehender Abbildung die Budgetgerade des Individuums für ein Grundeinkommen in Höhe von $G=0,25$ und $G=0,50$. Überprüfen Sie Ihr Ergebnis mit dem Slider.**"
   ]
  },
  {
   "cell_type": "code",
   "execution_count": 19,
   "id": "7769afed-1740-477a-96ff-cdcbb1e5b1a8",
   "metadata": {},
   "outputs": [
    {
     "data": {
      "application/vnd.jupyter.widget-view+json": {
       "model_id": "5a703588b7a64c44a1b0c4495ddff614",
       "version_major": 2,
       "version_minor": 0
      },
      "text/plain": [
       "A Jupyter Widget"
      ]
     },
     "metadata": {},
     "output_type": "display_data"
    }
   ],
   "source": [
    "%matplotlib inline\n",
    "\n",
    "def f(G):\n",
    "    plt.figure(2)\n",
    "    x = np.linspace(0, 1)\n",
    "    plt.plot(x,(1+G)-1*x,color=\"Darkcyan\", alpha=0.5, linewidth=2.0)\n",
    "    plt.vlines(1, 0, G,color=\"Darkcyan\", alpha=0.5, linewidth=2.0)\n",
    "    plt.ylim(0, 2)\n",
    "    plt.xlim(0, 1.1)\n",
    "    plt.xlabel(\"Freizeit $f$\")\n",
    "    plt.margins(x=0)\n",
    "    plt.ylabel(\"Konsum $x$\")    \n",
    "    plt.show()\n",
    "\n",
    "    \n",
    "interactive_plot = interactive(f, G=widgets.FloatSlider(min=0,max=1,step=0.01,value=0))\n",
    "output = interactive_plot.children[-1]\n",
    "interactive_plot"
   ]
  },
  {
   "cell_type": "markdown",
   "id": "755df7d3-27e5-468c-a0d3-5430083c65e6",
   "metadata": {},
   "source": [
    "> **Stellen Sie das Optimierungsproblem des Individuums sowie die dazugehörige Lagrange-Funktion auf.**"
   ]
  },
  {
   "cell_type": "code",
   "execution_count": 20,
   "id": "84f40a5d-5d51-421e-bd5d-2f866434cace",
   "metadata": {},
   "outputs": [
    {
     "data": {
      "application/vnd.jupyter.widget-view+json": {
       "model_id": "e6eddff51f414e50b2495bb0a23617af",
       "version_major": 2,
       "version_minor": 0
      },
      "text/plain": [
       "A Jupyter Widget"
      ]
     },
     "metadata": {},
     "output_type": "display_data"
    }
   ],
   "source": [
    "accordion1 = widgets.Accordion([\n",
    "    widgets.Label(\n",
    "        value=\"$$ wl + G = px $$\",\n",
    "        placeholder='Some LaTeX',\n",
    "        description='Some LaTeX',\n",
    "        disabled=False\n",
    "    ),\n",
    "    widgets.Label(\n",
    "        value=\"$$ max \\\\, u(f,x) \\\\quad u.d.NB.\\\\quad  wl + G = px $$\",\n",
    "        placeholder='Some LaTeX',\n",
    "        description='Some LaTeX',\n",
    "        disabled=False\n",
    "    ),\n",
    "    widgets.Label(\n",
    "        value=\"$$ \\mathcal{L} = u(f,x) + \\lambda(w(1-f) + G - px) $$\",\n",
    "        placeholder='Some LaTeX',\n",
    "        description='Some LaTeX',\n",
    "        disabled=False\n",
    "    )], selected_index=None)\n",
    "accordion1.set_title(0, 'Budgetbeschränkung')\n",
    "accordion1.set_title(1, 'Optimierungsproblem')\n",
    "accordion1.set_title(2, 'Lagrange-Funktion')\n",
    "\n",
    "accordion1"
   ]
  },
  {
   "cell_type": "markdown",
   "id": "5a9d3dee-ff07-4c12-bef4-9b8f8b4dc7a6",
   "metadata": {},
   "source": [
    "> **Bestimmen Sie die Optimalitätsbedingungen und interpretieren Sie diese.**"
   ]
  },
  {
   "cell_type": "code",
   "execution_count": 21,
   "id": "90fa5b5e-9a28-4372-94a5-0179ea85cdcb",
   "metadata": {},
   "outputs": [
    {
     "data": {
      "application/vnd.jupyter.widget-view+json": {
       "model_id": "7a72fbb4d6c34b8ab16add2f672e79ca",
       "version_major": 2,
       "version_minor": 0
      },
      "text/plain": [
       "A Jupyter Widget"
      ]
     },
     "metadata": {},
     "output_type": "display_data"
    }
   ],
   "source": [
    "accordion2 = widgets.Accordion([\n",
    "    widgets.Label(\n",
    "        value=\"BEO 1: $$\\\\frac{\\partial \\mathcal{L}}{\\partial f}=\\\\frac{\\partial u}{\\partial f}-\\lambda w\\\\overset{!}{=}0$$ BEO 2: $$\\\\frac{\\partial\\mathcal{L}}{\\partial x}= \\\\frac{\\partial u}{\\partial x}-\\lambda p\\overset{!}{=}0$$ BEO 3: $$\\\\frac{\\partial \\mathcal {L}}{\\partial \\lambda}=w(1-f)+G-px\\overset{!}{=}0$$\",\n",
    "        placeholder='Some LaTeX',\n",
    "        description='Some LaTeX',\n",
    "        disabled=False\n",
    "    ),\n",
    "    widgets.Label(\n",
    "        value=\"$$ \\\\text{(1)}=\\\\text{(2)}:~ \\\\frac{\\partial u}{\\partial f}\\cdot\\\\frac{1}{w}=\\\\frac{\\partial u}{\\partial x}\\cdot\\\\frac{1}{p} $$\",\n",
    "        placeholder='Some LaTeX',\n",
    "        description='Some LaTeX',\n",
    "        disabled=False\n",
    "    ),\n",
    "    widgets.Label(\n",
    "        value=\"$$\\\\frac{\\\\frac{\\partial u}{\\partial f}}{\\\\frac{\\partial u}{\\partial x}}=\\\\frac{w}{p}$$\",\n",
    "        placeholder='Some LaTeX',\n",
    "        description='Some LaTeX',\n",
    "        disabled=False\n",
    "    ),\n",
    "    widgets.Label(\n",
    "        value=\"|GRS|  = relatives Preisverhältnis für Konsum und Freizeit bzw. (|Steigung Indifferenzkurve|)=(|Steigung Budgetrestriktion|)\",\n",
    "        placeholder='Some LaTeX',\n",
    "        description='Some LaTeX',\n",
    "        disabled=False\n",
    "    )], selected_index=None)\n",
    "    \n",
    "accordion2.set_title(0, 'Bedingungen Erster Ordnung')\n",
    "accordion2.set_title(1, 'Gleichsetzen')\n",
    "accordion2.set_title(2, 'Optimalitätsbedingung')\n",
    "accordion2.set_title(3, 'Interpretation')\n",
    "\n",
    "accordion2"
   ]
  },
  {
   "cell_type": "markdown",
   "id": "e74b2c32-22d8-450a-912a-0c080c26bd76",
   "metadata": {},
   "source": [
    "## <span style=\"font-family:Century Gothic;color:DarkCyan\">Aufgabe 4: Anrechnung Arbeitseinkommen </span>"
   ]
  },
  {
   "cell_type": "markdown",
   "id": "93153c96-3aad-4099-b656-05b38c0e7a45",
   "metadata": {},
   "source": [
    "Die Regierung beschließt die Einführung des sogenannten Bürgergelds. Dieses Konzept sieht vor, dass Individuen ohne Arbeitseinkommen die Transferzahlung $G=60$ erhalten. Wird ein Individuum am Arbeitsmarkt aktiv, soll sein Arbeitseinkommen auf die Transferzahlung angerechnet werden. Die beiden aktiven Regierungsparteien sind sich uneinig, in welchem Ausmaß diese Anrechnung erfolgen soll. \n",
    "\n",
    "- **<span style=\"color:DarkCyan\">Partei A</span>**  möchte, dass das Arbeitseinkommen voll angerechnet wird.\n",
    "- **<span style=\"color:Maroon\">Partei B</span>** möchte, dass das Arbeitseinkommen nur zu 80% angerechnet wird.\n",
    "\n",
    "> **Skizzieren Sie den Verlauf der Budgetgeraden für die Vorschläge der <span style=\"color:DarkCyan\">Partei A</span> und <span style=\"color:Maroon\">Partei B</span>. Überprüfen Sie Ihr Ergebnis im Anschluss mit Hilfe der Slider <span style=\"color:DarkCyan\">A</span> und <span style=\"color:Maroon\">B</span>.** Gehen Sie davon aus, dass das maximale Zeitbudget 100 Stunden pro Woche beträgt. Für jede Arbeitsstunde erhält das Individuum einen Stundenlohn von $w=1$. Eine Einheit Konsum kostet $p=1$.\n"
   ]
  },
  {
   "cell_type": "code",
   "execution_count": 22,
   "id": "e53d98bd-ca51-4a13-8482-c984e8bc8606",
   "metadata": {},
   "outputs": [
    {
     "data": {
      "application/vnd.jupyter.widget-view+json": {
       "model_id": "0efa4dd499f5411fa63f632f5986b0c0",
       "version_major": 2,
       "version_minor": 0
      },
      "text/plain": [
       "A Jupyter Widget"
      ]
     },
     "metadata": {},
     "output_type": "display_data"
    }
   ],
   "source": [
    "%matplotlib inline\n",
    "\n",
    "def f(A,B):\n",
    "    plt.figure(2)\n",
    "    x = np.linspace(1, 100, num=100)\n",
    "    # Funktionen ohne Steuern\n",
    "    plt.plot(x,100-x,color=\"#464646\", linestyle='dotted')\n",
    "    # Funktion mit voller Anrechnung    \n",
    "    x1 = [0,40,100]\n",
    "    y1 = [100,60,60]\n",
    "    plt.plot(A*x1,A*y1,color=\"Darkcyan\", linewidth=2.0)\n",
    "    plt.vlines(100, 0,A*60,color=\"Darkcyan\", linewidth=2.0)\n",
    "    # Funktion mit 80 Anrechnung\n",
    "    x2 = [0,25,100]\n",
    "    y2 = [100,75,60]\n",
    "    plt.plot(B*x2,B*y2,color=\"Maroon\", linewidth=2.0)\n",
    "    plt.vlines(100, 0,B*60,color=\"Maroon\", linewidth=2.0)\n",
    "    \n",
    "    # Settings\n",
    "    plt.ylim(0, 100)\n",
    "    plt.xlim(0, 110)\n",
    "    plt.xlabel(\"Freizeit $f$\")\n",
    "    plt.margins(x=0)\n",
    "    plt.ylabel(\"Konsum $x$\")    \n",
    "    plt.show()\n",
    "    \n",
    "    \n",
    "interactive_plot = interactive(f, A=(0, 1,1), B=(0, 1,1))\n",
    "output = interactive_plot.children[-1]\n",
    "interactive_plot"
   ]
  },
  {
   "cell_type": "markdown",
   "id": "7c34bc26-9b6e-4c53-b4e8-571168078101",
   "metadata": {
    "tags": []
   },
   "source": [
    "## <span style=\"font-family:Century Gothic;color:DarkCyan\">Aufgabe 5"
   ]
  },
  {
   "cell_type": "markdown",
   "id": "3c3400b9-5f99-4a88-ab7d-13c37aeb0756",
   "metadata": {},
   "source": [
    "<a href=\"https://www.sciencedirect.com/science/article/pii/S0304407607001182\">Lemieux und Milligan (2008)</a>  untersuchen die Auswirkung eines Sozialhilfeprogramms auf das Arbeitsangebot von Individuen in Quebec (Kanada)."
   ]
  },
  {
   "cell_type": "markdown",
   "id": "59c30025-a759-444d-9441-d638ee32d06e",
   "metadata": {},
   "source": [
    "### <span style=\"font-family:Century Gothic;color:DarkCyan\">Aufgabe 5.1</span>\n",
    "> **Auf welche Gruppe alleinstehender Männer mit einem Alter zwischen 25 und 39 Jahren konzentrieren sich die Autoren?**"
   ]
  },
  {
   "cell_type": "code",
   "execution_count": 23,
   "id": "3dccd91d-6c51-4a74-ad46-124744cd652f",
   "metadata": {},
   "outputs": [
    {
     "data": {
      "application/vnd.jupyter.widget-view+json": {
       "model_id": "dc77a00004a24d30bd019f6e621c9cfd",
       "version_major": 2,
       "version_minor": 0
      },
      "text/plain": [
       "A Jupyter Widget"
      ]
     },
     "metadata": {},
     "output_type": "display_data"
    },
    {
     "data": {
      "application/vnd.jupyter.widget-view+json": {
       "model_id": "0ef6eb29a0164235b6b960daf33e0a6b",
       "version_major": 2,
       "version_minor": 0
      },
      "text/plain": [
       "A Jupyter Widget"
      ]
     },
     "metadata": {},
     "output_type": "display_data"
    }
   ],
   "source": [
    "opinion_MR1 = widgets.RadioButtons(\n",
    "    options=['Mit High-School Abschluss und mit Kindern','Ohne High-School Abschluss und mit Kindern','Ohne High-School Abschluss, ohne Kindern'],\n",
    "    value=None,\n",
    "    #description='Faktoren',\n",
    "    disabled=False\n",
    ")\n",
    "\n",
    "button_MR1 = widgets.Button(\n",
    "    description='Auswertung',\n",
    "    disabled=False,\n",
    "    button_style='', # 'success', 'info', 'warning', 'danger' or ''\n",
    "    tooltip='Bitte klicken.',\n",
    "    #icon='check' # (FontAwesome names without the `fa-` prefix)\n",
    ")\n",
    "\n",
    "# define function\n",
    "def check(button_MR1):\n",
    "  if opinion_MR1.value == 'Ohne High-School Abschluss, ohne Kindern':\n",
    "    button_MR1.button_style = 'success'\n",
    "    button_MR1.description = 'Richtig'\n",
    "  else:\n",
    "    button_MR1.button_style = 'danger'\n",
    "    button_MR1.description = 'Leider Falsch'\n",
    "\n",
    "# set function as on_click on button\n",
    "button_MR1.on_click(check)\n",
    "\n",
    "display(opinion_MR1)\n",
    "display(button_MR1)"
   ]
  },
  {
   "cell_type": "markdown",
   "id": "976e9bf1-8a8a-4821-902b-5415990edd8c",
   "metadata": {},
   "source": [
    "### <span style=\"font-family:Century Gothic;color:DarkCyan\">Aufgabe 5.2</span>\n",
    "Zeichnen Sie die Höhe der zu erwartenden Sozialhilfe (siehe Folie 329) für diese Gruppe in untenstehendes Diagramm ein."
   ]
  },
  {
   "cell_type": "code",
   "execution_count": 24,
   "id": "ef3e9562-ae12-4d25-9558-1b2e7bd604a0",
   "metadata": {},
   "outputs": [
    {
     "data": {
      "image/png": "[encoded data removed]",
      "text/plain": [
       "<Figure size 640x480 with 1 Axes>"
      ]
     },
     "metadata": {},
     "output_type": "display_data"
    }
   ],
   "source": [
    "%matplotlib inline\n",
    "\n",
    "#def f(A,B):\n",
    "plt.figure(2)\n",
    "x = np.linspace(1, 100, num=100)\n",
    "# Benefits unter 30   \n",
    "#x1 = [24,30]\n",
    "#y1 = [185,185]\n",
    "#plt.plot(x1,y1,color=\"Darkcyan\", linewidth=2.0)\n",
    "#plt.vlines(30,185,507, color=\"#464646\", linestyle='dotted', linewidth=2.0)\n",
    "# Benefits über 30 \n",
    "#x2 = [30,40]\n",
    "#y2 = [507,507]\n",
    "#plt.plot(x2,y2,color=\"Darkcyan\", linewidth=2.0)\n",
    "\n",
    "    \n",
    "# Settings\n",
    "plt.ylim(0, 550)\n",
    "plt.xlim(24, 40)\n",
    "plt.xlabel(\"Alter (in Jahren)\")\n",
    "plt.margins(x=0)\n",
    "plt.ylabel(\"Sozialhilfe (in Dollar)\")    \n",
    "plt.show()\n"
   ]
  },
  {
   "cell_type": "markdown",
   "id": "10e3cb90-a67d-4dc3-833c-c1bea88eb2bf",
   "metadata": {},
   "source": [
    "### <span style=\"font-family:Century Gothic;color:DarkCyan\">Aufgabe 5.3</span>\n",
    ">**Wieso vergleichen Lemieux und Milligan innerhalb dieser Gruppe nicht alle Personen unter 30 Jahren mit allen Personen über 30 Jahren?**\n",
    "\n",
    "*Diese Aufgabe wird in der Präsenzveranstaltung besprochen.*"
   ]
  },
  {
   "cell_type": "markdown",
   "id": "cbf92811-9a52-40d4-8cd9-6b9e6db9ac34",
   "metadata": {},
   "source": [
    "### <span style=\"font-family:Century Gothic;color:DarkCyan\">Aufgabe 5.4</span>\n",
    "Betrachten Sie nun folgende Abbildung aus Lemieux und Milligan (S. 816)."
   ]
  },
  {
   "cell_type": "code",
   "execution_count": 25,
   "id": "e5fda942-a175-4006-8442-7602837f4d9f",
   "metadata": {},
   "outputs": [
    {
     "data": {
      "application/vnd.jupyter.widget-view+json": {
       "model_id": "bada3e29b24a43f89045f154b400266b",
       "version_major": 2,
       "version_minor": 0
      },
      "text/plain": [
       "A Jupyter Widget"
      ]
     },
     "metadata": {},
     "output_type": "display_data"
    }
   ],
   "source": [
    "file = builtins.open(\"Bilder/Lemieux2008_Abbildung_3_S816.PNG\", \"rb\")\n",
    "image = file.read()\n",
    "bild_Lemieux2008_1 = widgets.Image(\n",
    "    value=image,\n",
    "    format='png',\n",
    "    width=700,\n",
    "   #height=128,\n",
    "    )\n",
    "bild_Lemieux2008_1"
   ]
  },
  {
   "cell_type": "markdown",
   "id": "4d12eec8-6178-482c-af0f-064f8d1194c9",
   "metadata": {},
   "source": [
    ">**Wie groß ist der Effekt der erhöhten Sozialhilfe auf die Beschäftigtenrate?**"
   ]
  },
  {
   "cell_type": "code",
   "execution_count": 26,
   "id": "386b9118-86d6-4c2a-b5ba-7b4fd66d2f43",
   "metadata": {},
   "outputs": [
    {
     "data": {
      "application/vnd.jupyter.widget-view+json": {
       "model_id": "d2ecb08fb88c4c41af9dd1c07adafefd",
       "version_major": 2,
       "version_minor": 0
      },
      "text/plain": [
       "A Jupyter Widget"
      ]
     },
     "metadata": {},
     "output_type": "display_data"
    },
    {
     "data": {
      "application/vnd.jupyter.widget-view+json": {
       "model_id": "149b565d7c88467bb4956a1e9dc00e5f",
       "version_major": 2,
       "version_minor": 0
      },
      "text/plain": [
       "A Jupyter Widget"
      ]
     },
     "metadata": {},
     "output_type": "display_data"
    }
   ],
   "source": [
    "opinion_MR2 = widgets.RadioButtons(\n",
    "    options=['ca. -5 Prozent','ca. -5 Prozentpunkte','ca. +5Prozent','ca. +5 Prozentpunkte'],\n",
    "    value=None,\n",
    "    #description='Faktoren',\n",
    "    disabled=False\n",
    ")\n",
    "\n",
    "button_MR2 = widgets.Button(\n",
    "    description='Auswertung',\n",
    "    disabled=False,\n",
    "    button_style='', # 'success', 'info', 'warning', 'danger' or ''\n",
    "    tooltip='Bitte klicken.',\n",
    "    #icon='check' # (FontAwesome names without the `fa-` prefix)\n",
    ")\n",
    "\n",
    "# define function\n",
    "def check(button_MR2):\n",
    "  if opinion_MR2.value == 'ca. -5 Prozentpunkte':\n",
    "    button_MR2.button_style = 'success'\n",
    "    button_MR2.description = 'Richtig'\n",
    "  else:\n",
    "    button_MR2.button_style = 'danger'\n",
    "    button_MR2.description = 'Leider Falsch'\n",
    "\n",
    "# set function as on_click on button\n",
    "button_MR2.on_click(check)\n",
    "\n",
    "display(opinion_MR2)\n",
    "display(button_MR2)"
   ]
  },
  {
   "cell_type": "markdown",
   "id": "99c96471-a533-4cd4-a38c-4b490cc35062",
   "metadata": {},
   "source": [
    "### <span style=\"font-family:Century Gothic;color:DarkCyan\">Aufgabe 5.5</span>\n",
    ">**Lassen sich die Schlussfolgerungen aus der Studie auf alle Männer im Alter zwischen 30 und 31 Jahren übertragen? Bitte begründen Sie Ihre Antwort.**"
   ]
  },
  {
   "cell_type": "code",
   "execution_count": 27,
   "id": "704e3c6d-a3ae-4ee6-ae90-77d0b8bd6f31",
   "metadata": {},
   "outputs": [
    {
     "data": {
      "application/vnd.jupyter.widget-view+json": {
       "model_id": "a3c49762fc24441494ffdf46bdda15fd",
       "version_major": 2,
       "version_minor": 0
      },
      "text/plain": [
       "A Jupyter Widget"
      ]
     },
     "metadata": {},
     "output_type": "display_data"
    },
    {
     "data": {
      "application/vnd.jupyter.widget-view+json": {
       "model_id": "df73e2f8d031483ebcbeea3fee28df2b",
       "version_major": 2,
       "version_minor": 0
      },
      "text/plain": [
       "A Jupyter Widget"
      ]
     },
     "metadata": {},
     "output_type": "display_data"
    }
   ],
   "source": [
    "opinion_MR3 = widgets.RadioButtons(\n",
    "    options=['Ja','Nein'],\n",
    "    value=None,\n",
    "    #description='Faktoren',\n",
    "    disabled=False\n",
    ")\n",
    "\n",
    "button_MR3 = widgets.Button(\n",
    "    description='Auswertung',\n",
    "    disabled=False,\n",
    "    button_style='', # 'success', 'info', 'warning', 'danger' or ''\n",
    "    tooltip='Bitte klicken.',\n",
    "    #icon='check' # (FontAwesome names without the `fa-` prefix)\n",
    ")\n",
    "\n",
    "# define function\n",
    "def check(button_MR3):\n",
    "  if opinion_MR3.value == 'Nein':\n",
    "    button_MR3.button_style = 'success'\n",
    "    button_MR3.description = 'Richtig'\n",
    "  else:\n",
    "    button_MR3.button_style = 'danger'\n",
    "    button_MR3.description = 'Leider Falsch'\n",
    "\n",
    "# set function as on_click on button\n",
    "button_MR3.on_click(check)\n",
    "\n",
    "display(opinion_MR3)\n",
    "display(button_MR3)"
   ]
  },
  {
   "cell_type": "markdown",
   "id": "fbf85c27-4cd4-46d2-aa60-8f927aad9a79",
   "metadata": {},
   "source": []
  }
 ],
 "metadata": {
  "kernelspec": {
   "display_name": "Python 3 (ipykernel)",
   "language": "python",
   "name": "python3"
  },
  "language_info": {
   "codemirror_mode": {
    "name": "ipython",
    "version": 3
   },
   "file_extension": ".py",
   "mimetype": "text/x-python",
   "name": "python",
   "nbconvert_exporter": "python",
   "pygments_lexer": "ipython3",
   "version": "3.7.3"
  }
 },
 "nbformat": 4,
 "nbformat_minor": 5
}
